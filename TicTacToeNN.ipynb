{
 "cells": [
  {
   "cell_type": "code",
   "execution_count": 1,
   "id": "ced43867-71bf-4d68-85cd-d238b90f4ff2",
   "metadata": {},
   "outputs": [],
   "source": [
    "import torch\n",
    "\n",
    "import pandas as pd\n",
    "import numpy as np"
   ]
  },
  {
   "cell_type": "code",
   "execution_count": 2,
   "id": "a3ca9535-1638-4018-9545-a3c23dbfc3e5",
   "metadata": {},
   "outputs": [
    {
     "name": "stdout",
     "output_type": "stream",
     "text": [
      "tensor([[0.4640, 0.1705, 0.0710],\n",
      "        [0.3133, 0.5607, 0.0540],\n",
      "        [0.3792, 0.6071, 0.6906],\n",
      "        [0.9480, 0.2464, 0.3750],\n",
      "        [0.5173, 0.2017, 0.6586]])\n",
      "tensor([[1., 1., 1.],\n",
      "        [1., 1., 1.],\n",
      "        [1., 1., 1.],\n",
      "        [1., 1., 1.],\n",
      "        [1., 1., 1.]])\n"
     ]
    }
   ],
   "source": [
    "x = torch.rand(5,3)\n",
    "print(x)\n",
    "y = torch.ones(5,3)\n",
    "print(y)"
   ]
  },
  {
   "cell_type": "code",
   "execution_count": 3,
   "id": "3efa030c-8c9d-4376-8b5a-313d681d64ea",
   "metadata": {},
   "outputs": [
    {
     "name": "stdout",
     "output_type": "stream",
     "text": [
      "tensor([[1.4640, 1.1705, 1.0710],\n",
      "        [1.3133, 1.5607, 1.0540],\n",
      "        [1.3792, 1.6071, 1.6906],\n",
      "        [1.9480, 1.2464, 1.3750],\n",
      "        [1.5173, 1.2017, 1.6586]])\n"
     ]
    }
   ],
   "source": [
    "z = x + y\n",
    "print(z)"
   ]
  },
  {
   "cell_type": "markdown",
   "id": "79d5e853-b7e4-4037-ab3e-0fb1a6687758",
   "metadata": {},
   "source": [
    "# Advantages of Pytorch over Numpy\n",
    "## Automatic Differentiation\n",
    "## Running on GPUs"
   ]
  },
  {
   "cell_type": "code",
   "execution_count": 5,
   "id": "9ecf0fbf-16d9-40b1-9caa-f1b32c117628",
   "metadata": {},
   "outputs": [],
   "source": [
    "df = pd.read_csv('tictactoemoves.csv')"
   ]
  },
  {
   "cell_type": "code",
   "execution_count": 6,
   "id": "cdc2603f-d093-43d0-8977-d05ea70e7468",
   "metadata": {},
   "outputs": [
    {
     "name": "stdout",
     "output_type": "stream",
     "text": [
      "   C1  C2  C3  C4  C5  C6  C7  C8  C9  player  move\n",
      "0   1   1   1   1   0   0   1   0   0      -1    -1\n",
      "1   1   1   1   1   0   0   0   1   0      -1    -1\n",
      "2   1   1   1   1   0   0   0   0   1      -1    -1\n",
      "3   1   1   1   1   0   0   0  -1  -1      -1    -1\n",
      "4   1   1   1   1   0   0  -1   0  -1      -1    -1\n"
     ]
    }
   ],
   "source": [
    "print(df.head())"
   ]
  },
  {
   "cell_type": "code",
   "execution_count": 7,
   "id": "a5379519-9e36-4e50-8c6c-c26efe7f82ee",
   "metadata": {},
   "outputs": [],
   "source": [
    "X = df[['C1', 'C2', 'C3', 'C4', 'C5', 'C6', 'C7', 'C8', 'C9', 'player']].values\n",
    "y = df['move'].values"
   ]
  },
  {
   "cell_type": "code",
   "execution_count": 8,
   "id": "92a6076a-ff59-4c5b-bedc-693200d294f5",
   "metadata": {},
   "outputs": [
    {
     "name": "stdout",
     "output_type": "stream",
     "text": [
      "[-1 -1 -1 ...  3  5  1]\n"
     ]
    }
   ],
   "source": [
    "print(y)"
   ]
  },
  {
   "cell_type": "code",
   "execution_count": 16,
   "id": "6faa8dd8-80b0-433c-b253-495afc5865fd",
   "metadata": {},
   "outputs": [],
   "source": [
    "y_encoded = np.zeros([len(y), 10])\n",
    "\n",
    "for i in range(0, len(y)):\n",
    "    if(y[i] == -1):\n",
    "        y_encoded[i][0] = 1.0\n",
    "    else:\n",
    "        y_encoded[i][int(y[i])] = 1.0"
   ]
  },
  {
   "cell_type": "code",
   "execution_count": 18,
   "id": "0d3c4c7f-b361-4b49-8cb3-249e8a555ee9",
   "metadata": {},
   "outputs": [
    {
     "name": "stdout",
     "output_type": "stream",
     "text": [
      "[0. 0. 0. 0. 0. 1. 0. 0. 0. 0.]\n"
     ]
    }
   ],
   "source": [
    "print(y_encoded[-2])"
   ]
  },
  {
   "cell_type": "code",
   "execution_count": 20,
   "id": "8730443b-00e8-437f-b048-4ca18fa25bf7",
   "metadata": {},
   "outputs": [],
   "source": [
    "X_tensor = torch.tensor(X, dtype=torch.float32)\n",
    "y_tensor = torch.tensor(y_encoded, dtype=torch.float32)"
   ]
  },
  {
   "cell_type": "code",
   "execution_count": 22,
   "id": "929a581b-7a7f-4602-98c3-13d9853498c5",
   "metadata": {},
   "outputs": [
    {
     "name": "stdout",
     "output_type": "stream",
     "text": [
      "tensor([[1., 0., 0.,  ..., 0., 0., 0.],\n",
      "        [1., 0., 0.,  ..., 0., 0., 0.],\n",
      "        [1., 0., 0.,  ..., 0., 0., 0.],\n",
      "        ...,\n",
      "        [0., 0., 0.,  ..., 0., 0., 0.],\n",
      "        [0., 0., 0.,  ..., 0., 0., 0.],\n",
      "        [0., 1., 0.,  ..., 0., 0., 0.]])\n"
     ]
    }
   ],
   "source": [
    "print(y_tensor)"
   ]
  },
  {
   "cell_type": "markdown",
   "id": "aabdc7a7-4b4f-4ec4-9ad8-c504df08bae1",
   "metadata": {},
   "source": [
    "### train,test sets"
   ]
  },
  {
   "cell_type": "code",
   "execution_count": 25,
   "id": "e93bd086-21d8-4d0b-88d9-54c44e2fe576",
   "metadata": {},
   "outputs": [],
   "source": [
    "from sklearn.model_selection import train_test_split"
   ]
  },
  {
   "cell_type": "code",
   "execution_count": 26,
   "id": "05a574d0-a41c-4ec1-a380-f8b7100c6d9a",
   "metadata": {},
   "outputs": [],
   "source": [
    "#X_train, X_test, y_train, y_test = train_test_split(X_tensor, y_tensor, test_size=0.1, random_state=42)"
   ]
  },
  {
   "cell_type": "code",
   "execution_count": 27,
   "id": "227868da-768f-46e8-ad5d-6d20ed4c4327",
   "metadata": {},
   "outputs": [
    {
     "name": "stdout",
     "output_type": "stream",
     "text": [
      "548\n"
     ]
    }
   ],
   "source": [
    "print(len(X_test))"
   ]
  },
  {
   "cell_type": "markdown",
   "id": "f1b044be-9a67-4291-a55d-eaa5ac7d76fd",
   "metadata": {},
   "source": [
    "## NN Model"
   ]
  },
  {
   "cell_type": "code",
   "execution_count": 32,
   "id": "5f7e640a-951e-49f1-9c73-5e938cb34804",
   "metadata": {},
   "outputs": [],
   "source": [
    "import torch.nn as nn"
   ]
  },
  {
   "cell_type": "code",
   "execution_count": 109,
   "id": "c077b8b6-928e-42f5-bc6f-ba313c1e4b98",
   "metadata": {},
   "outputs": [],
   "source": [
    "class TicTacToeTrainer(nn.Module):\n",
    "\n",
    "    def __init__(self):\n",
    "        super(TicTacToeTrainer, self).__init__()\n",
    "\n",
    "        self.fc1 = nn.Linear(10, 32)\n",
    "        self.fc2 = nn.Linear(32, 64)\n",
    "        self.fc3 = nn.Linear(64, 32)\n",
    "        self.fc4 = nn.Linear(32, 10) #logits as output\n",
    "\n",
    "        self.relu = nn.ReLU()\n",
    "\n",
    "    def forward(self, x):\n",
    "        x = self.relu(self.fc1(x))\n",
    "        x = self.relu(self.fc2(x))\n",
    "        x = self.relu(self.fc3(x))\n",
    "        x = self.fc4(x)\n",
    "\n",
    "        return x\n",
    "       "
   ]
  },
  {
   "cell_type": "code",
   "execution_count": 111,
   "id": "eb8a3762-89c0-4fbb-b6a9-f53991217bb6",
   "metadata": {},
   "outputs": [],
   "source": [
    "model = TicTacToeTrainer()"
   ]
  },
  {
   "cell_type": "code",
   "execution_count": 113,
   "id": "074667a4-1465-42fe-a319-8dd083b19a7b",
   "metadata": {},
   "outputs": [],
   "source": [
    "x_eval = torch.tensor([[0,-1,-1,-1,-1,0,1,1,-1,1]],dtype=torch.float32)\n",
    "output = model(x_eval)\n"
   ]
  },
  {
   "cell_type": "code",
   "execution_count": 74,
   "id": "f77a8812-a999-4cd0-8309-1dcb94d2985a",
   "metadata": {},
   "outputs": [
    {
     "name": "stdout",
     "output_type": "stream",
     "text": [
      "tensor([[-0.0228,  0.0253,  0.0159,  0.0110, -0.2053,  0.2764, -0.1847, -0.0421,\n",
      "          0.1159,  0.2017]], grad_fn=<AddmmBackward0>)\n"
     ]
    }
   ],
   "source": [
    "print(output)"
   ]
  },
  {
   "cell_type": "code",
   "execution_count": null,
   "id": "c69debef-dfc2-4ab2-8b6f-47c92f28dc08",
   "metadata": {},
   "outputs": [],
   "source": []
  },
  {
   "cell_type": "markdown",
   "id": "e89ba0ba-ca0c-4851-830e-a1b10707c14f",
   "metadata": {},
   "source": [
    "# Training"
   ]
  },
  {
   "cell_type": "markdown",
   "id": "1fa297f5-66df-46a1-b3b6-06684e34e77b",
   "metadata": {},
   "source": [
    "## Softmax + Cross-Entropy"
   ]
  },
  {
   "cell_type": "code",
   "execution_count": 115,
   "id": "bd407fa2-5a24-4c0e-8dad-5086c0627c6b",
   "metadata": {},
   "outputs": [],
   "source": [
    "criterion = nn.CrossEntropyLoss()"
   ]
  },
  {
   "cell_type": "markdown",
   "id": "d5d51bf4-8b21-430a-894c-d95b92ccb9f7",
   "metadata": {},
   "source": [
    "## Optimizer"
   ]
  },
  {
   "cell_type": "code",
   "execution_count": 118,
   "id": "6478f645-48eb-469d-9c19-8139a8e74234",
   "metadata": {},
   "outputs": [],
   "source": [
    "import torch.optim as optim"
   ]
  },
  {
   "cell_type": "code",
   "execution_count": 120,
   "id": "58218b99-9a7b-42c9-a40f-69c50385298f",
   "metadata": {},
   "outputs": [],
   "source": [
    "optimizer =  optim.Adam(model.parameters(), lr=1e-3, weight_decay=1e-5)"
   ]
  },
  {
   "cell_type": "markdown",
   "id": "e4f80782-c315-4716-9a76-8abb026be053",
   "metadata": {},
   "source": [
    "## Training"
   ]
  },
  {
   "cell_type": "code",
   "execution_count": 122,
   "id": "f023c5a0-92be-41ee-8334-9260400262e4",
   "metadata": {},
   "outputs": [],
   "source": [
    "X_test = X_tensor\n",
    "X_train = X_tensor\n",
    "\n",
    "y_test = y_tensor\n",
    "y_train = y_tensor"
   ]
  },
  {
   "cell_type": "code",
   "execution_count": 128,
   "id": "2dc93e66-5b44-47b5-8cd3-49914c880e4f",
   "metadata": {},
   "outputs": [
    {
     "name": "stdout",
     "output_type": "stream",
     "text": [
      "Epoch [10/1000], Loss: 0.016147\n",
      "Epoch [20/1000], Loss: 0.016129\n",
      "Epoch [30/1000], Loss: 0.016113\n",
      "Epoch [40/1000], Loss: 0.016097\n",
      "Epoch [50/1000], Loss: 0.016076\n",
      "Epoch [60/1000], Loss: 0.016059\n",
      "Epoch [70/1000], Loss: 0.016044\n",
      "Epoch [80/1000], Loss: 0.016025\n",
      "Epoch [90/1000], Loss: 0.016006\n",
      "Epoch [100/1000], Loss: 0.015987\n",
      "Epoch [110/1000], Loss: 0.015972\n",
      "Epoch [120/1000], Loss: 0.015952\n",
      "Epoch [130/1000], Loss: 0.015935\n",
      "Epoch [140/1000], Loss: 0.015916\n",
      "Epoch [150/1000], Loss: 0.015896\n",
      "Epoch [160/1000], Loss: 0.015878\n",
      "Epoch [170/1000], Loss: 0.015859\n",
      "Epoch [180/1000], Loss: 0.015842\n",
      "Epoch [190/1000], Loss: 0.015822\n",
      "Epoch [200/1000], Loss: 0.015805\n",
      "Epoch [210/1000], Loss: 0.015785\n",
      "Epoch [220/1000], Loss: 0.015767\n",
      "Epoch [230/1000], Loss: 0.015749\n",
      "Epoch [240/1000], Loss: 0.015730\n",
      "Epoch [250/1000], Loss: 0.015712\n",
      "Epoch [260/1000], Loss: 0.015691\n",
      "Epoch [270/1000], Loss: 0.015675\n",
      "Epoch [280/1000], Loss: 0.015654\n",
      "Epoch [290/1000], Loss: 0.015637\n",
      "Epoch [300/1000], Loss: 0.015616\n",
      "Epoch [310/1000], Loss: 0.015596\n",
      "Epoch [320/1000], Loss: 0.015577\n",
      "Epoch [330/1000], Loss: 0.015559\n",
      "Epoch [340/1000], Loss: 0.015540\n",
      "Epoch [350/1000], Loss: 0.015521\n",
      "Epoch [360/1000], Loss: 0.015500\n",
      "Epoch [370/1000], Loss: 0.015481\n",
      "Epoch [380/1000], Loss: 0.015460\n",
      "Epoch [390/1000], Loss: 0.015442\n",
      "Epoch [400/1000], Loss: 0.015425\n",
      "Epoch [410/1000], Loss: 0.015403\n",
      "Epoch [420/1000], Loss: 0.015385\n",
      "Epoch [430/1000], Loss: 0.015363\n",
      "Epoch [440/1000], Loss: 0.015344\n",
      "Epoch [450/1000], Loss: 0.015324\n",
      "Epoch [460/1000], Loss: 0.015306\n",
      "Epoch [470/1000], Loss: 0.015286\n",
      "Epoch [480/1000], Loss: 0.015264\n",
      "Epoch [490/1000], Loss: 0.015244\n",
      "Epoch [500/1000], Loss: 0.015225\n",
      "Epoch [510/1000], Loss: 0.015206\n",
      "Epoch [520/1000], Loss: 0.015185\n",
      "Epoch [530/1000], Loss: 0.015166\n",
      "Epoch [540/1000], Loss: 0.015145\n",
      "Epoch [550/1000], Loss: 0.015126\n",
      "Epoch [560/1000], Loss: 0.015104\n",
      "Epoch [570/1000], Loss: 0.015086\n",
      "Epoch [580/1000], Loss: 0.015065\n",
      "Epoch [590/1000], Loss: 0.015043\n",
      "Epoch [600/1000], Loss: 0.015023\n",
      "Epoch [610/1000], Loss: 0.015001\n",
      "Epoch [620/1000], Loss: 0.014983\n",
      "Epoch [630/1000], Loss: 0.014962\n",
      "Epoch [640/1000], Loss: 0.014940\n",
      "Epoch [650/1000], Loss: 0.014919\n",
      "Epoch [660/1000], Loss: 0.014899\n",
      "Epoch [670/1000], Loss: 0.014878\n",
      "Epoch [680/1000], Loss: 0.014857\n",
      "Epoch [690/1000], Loss: 0.014835\n",
      "Epoch [700/1000], Loss: 0.014819\n",
      "Epoch [710/1000], Loss: 0.014793\n",
      "Epoch [720/1000], Loss: 0.014779\n",
      "Epoch [730/1000], Loss: 0.014751\n",
      "Epoch [740/1000], Loss: 0.014733\n",
      "Epoch [750/1000], Loss: 0.014708\n",
      "Epoch [760/1000], Loss: 0.014694\n",
      "Epoch [770/1000], Loss: 0.014668\n",
      "Epoch [780/1000], Loss: 0.014646\n",
      "Epoch [790/1000], Loss: 0.014623\n",
      "Epoch [800/1000], Loss: 0.014602\n",
      "Epoch [810/1000], Loss: 0.014582\n",
      "Epoch [820/1000], Loss: 0.014564\n",
      "Epoch [830/1000], Loss: 0.014539\n",
      "Epoch [840/1000], Loss: 0.014516\n",
      "Epoch [850/1000], Loss: 0.014495\n",
      "Epoch [860/1000], Loss: 0.014469\n",
      "Epoch [870/1000], Loss: 0.014451\n",
      "Epoch [880/1000], Loss: 0.014428\n",
      "Epoch [890/1000], Loss: 0.014407\n",
      "Epoch [900/1000], Loss: 0.014385\n",
      "Epoch [910/1000], Loss: 0.014364\n",
      "Epoch [920/1000], Loss: 0.014340\n",
      "Epoch [930/1000], Loss: 0.014317\n",
      "Epoch [940/1000], Loss: 0.014297\n",
      "Epoch [950/1000], Loss: 0.014274\n",
      "Epoch [960/1000], Loss: 0.014251\n",
      "Epoch [970/1000], Loss: 0.014229\n",
      "Epoch [980/1000], Loss: 0.014207\n",
      "Epoch [990/1000], Loss: 0.014187\n",
      "Epoch [1000/1000], Loss: 0.014163\n"
     ]
    }
   ],
   "source": [
    "num_epochs = 1000 # 1 epoch, 1 traversal through the training set\n",
    "model.train()\n",
    "for epoch in range(num_epochs):\n",
    "    optimizer.zero_grad() #zero out the gradients\n",
    "    outputs = model(X_train) #run the forward pass\n",
    "    loss = criterion(outputs, y_train) # compute the loss\n",
    "    loss.backward() #gradient calculation happens from here\n",
    "    optimizer.step() #takes the step based on the gradients and lr\n",
    "\n",
    "    if (epoch + 1) % 10 == 0:\n",
    "        print(f'Epoch [{epoch + 1}/{num_epochs}], Loss: {loss.item():.6f}')"
   ]
  },
  {
   "cell_type": "code",
   "execution_count": 130,
   "id": "3447e5e6-4bcf-4c68-b448-d0bc0be258f4",
   "metadata": {},
   "outputs": [
    {
     "name": "stdout",
     "output_type": "stream",
     "text": [
      "Test Accuracy : 99.96349032493612\n"
     ]
    }
   ],
   "source": [
    "# Evaluating\n",
    "model.eval()\n",
    "with torch.no_grad():\n",
    "    outputs = model(X_test)\n",
    "    _, predicted = torch.max(outputs.data, 1)\n",
    "    _, actual = torch.max(y_test.data, 1)\n",
    "\n",
    "    accuracy = (predicted == actual).sum().item()/actual.size(0)*100.0\n",
    "\n",
    "    print(f'Test Accuracy : {accuracy}')"
   ]
  },
  {
   "cell_type": "code",
   "execution_count": 97,
   "id": "b74dc54c-12aa-494a-b089-7cf8af536da7",
   "metadata": {},
   "outputs": [
    {
     "name": "stdout",
     "output_type": "stream",
     "text": [
      "Training Accuracy : 86.59229208924948\n"
     ]
    }
   ],
   "source": [
    "# Evaluating\n",
    "model.eval()\n",
    "with torch.no_grad():\n",
    "    outputs = model(X_train)\n",
    "    _, predicted = torch.max(outputs.data, 1)\n",
    "    _, actual = torch.max(y_train.data, 1)\n",
    "\n",
    "    accuracy = (predicted == actual).sum().item()/actual.size(0)*100.0\n",
    "\n",
    "    print(f'Training Accuracy : {accuracy}')"
   ]
  },
  {
   "cell_type": "code",
   "execution_count": 103,
   "id": "2403f56b-63da-4853-9f79-0cbc18b07ad0",
   "metadata": {},
   "outputs": [
    {
     "name": "stdout",
     "output_type": "stream",
     "text": [
      "tensor([ 0, -1, -1, -1,  1,  0,  1, -1, -1,  1], dtype=torch.int32) tensor(2) tensor(3) True\n",
      "tensor([ 0, -1,  1,  1,  1,  0, -1,  0, -1,  1], dtype=torch.int32) tensor(7) tensor(2) True\n",
      "tensor([-1,  0,  1, -1, -1,  0, -1,  1,  1,  0], dtype=torch.int32) tensor(7) tensor(1) True\n",
      "tensor([-1,  0,  1,  0, -1,  1, -1,  1,  0,  1], dtype=torch.int32) tensor(1) tensor(5) True\n",
      "tensor([-1, -1,  1, -1,  0, -1, -1,  0,  1,  1], dtype=torch.int32) tensor(2) tensor(6) True\n",
      "tensor([-1, -1,  0, -1,  0,  1,  1,  1, -1,  0], dtype=torch.int32) tensor(9) tensor(2) True\n",
      "tensor([ 0, -1,  1, -1, -1, -1,  0,  1, -1,  1], dtype=torch.int32) tensor(4) tensor(2) True\n",
      "tensor([ 0,  1,  1, -1, -1, -1,  0, -1,  1,  0], dtype=torch.int32) tensor(4) tensor(6) True\n",
      "tensor([-1, -1,  0, -1,  1,  1, -1, -1, -1,  0], dtype=torch.int32) tensor(4) tensor(1) True\n",
      "tensor([-1, -1,  1, -1, -1, -1, -1,  1,  0,  0], dtype=torch.int32) tensor(2) tensor(5) True\n",
      "tensor([ 0, -1, -1,  1,  1,  0,  1,  0,  1,  0], dtype=torch.int32) tensor(3) tensor(2) True\n",
      "tensor([-1, -1,  1, -1, -1,  0, -1,  1,  0,  1], dtype=torch.int32) tensor(1) tensor(5) True\n",
      "tensor([-1,  0, -1,  0,  0,  1, -1,  1,  1,  1], dtype=torch.int32) tensor(1) tensor(3) True\n",
      "tensor([ 1,  0, -1,  0,  0,  1,  1, -1, -1,  1], dtype=torch.int32) tensor(8) tensor(3) True\n",
      "tensor([ 1, -1, -1, -1, -1, -1, -1, -1,  0,  1], dtype=torch.int32) tensor(3) tensor(2) True\n",
      "tensor([ 0, -1, -1,  0,  1,  0,  1, -1,  1,  1], dtype=torch.int32) tensor(2) tensor(3) True\n",
      "tensor([ 1, -1, -1, -1,  0, -1,  0,  1, -1,  1], dtype=torch.int32) tensor(3) tensor(2) True\n",
      "tensor([ 1, -1,  1,  0,  0, -1, -1, -1,  1,  0], dtype=torch.int32) tensor(6) tensor(2) True\n",
      "tensor([ 1, -1,  0, -1,  1,  1,  0,  1,  0,  0], dtype=torch.int32) tensor(2) tensor(4) True\n",
      "tensor([ 0, -1,  0,  1, -1, -1,  1, -1, -1,  1], dtype=torch.int32) tensor(2) tensor(5) True\n",
      "tensor([-1, -1, -1,  1,  1,  0, -1,  1,  0,  0], dtype=torch.int32) tensor(3) tensor(2) True\n",
      "tensor([ 0,  1, -1,  1, -1,  0,  0,  1,  1,  0], dtype=torch.int32) tensor(5) tensor(3) True\n",
      "tensor([ 1,  0, -1,  1,  0, -1, -1,  1, -1,  0], dtype=torch.int32) tensor(7) tensor(3) True\n",
      "tensor([-1,  1, -1,  0,  1, -1,  1,  0, -1,  0], dtype=torch.int32) tensor(3) tensor(6) True\n",
      "tensor([ 1, -1, -1,  0, -1,  1,  0,  1, -1,  0], dtype=torch.int32) tensor(2) tensor(9) True\n",
      "tensor([-1, -1,  1, -1,  1,  1,  0,  0, -1,  0], dtype=torch.int32) tensor(9) tensor(1) True\n",
      "tensor([ 1, -1,  0,  1, -1,  1, -1,  0, -1,  0], dtype=torch.int32) tensor(2) tensor(5) True\n",
      "tensor([-1, -1, -1,  0,  1, -1, -1,  1, -1,  0], dtype=torch.int32) tensor(1) tensor(2) True\n",
      "tensor([ 1, -1,  0, -1,  1, -1, -1, -1,  0,  1], dtype=torch.int32) tensor(6) tensor(4) True\n",
      "tensor([-1,  0,  1,  1, -1, -1, -1,  1,  0,  0], dtype=torch.int32) tensor(5) tensor(7) True\n",
      "tensor([-1, -1,  1, -1, -1, -1,  0,  1, -1,  0], dtype=torch.int32) tensor(1) tensor(5) True\n",
      "tensor([-1, -1, -1,  1, -1, -1, -1, -1, -1,  0], dtype=torch.int32) tensor(1) tensor(5) True\n",
      "tensor([ 1,  0,  1, -1, -1,  0,  1, -1,  0,  1], dtype=torch.int32) tensor(4) tensor(5) True\n",
      "tensor([ 1,  1,  0,  0,  0,  1,  1, -1, -1,  0], dtype=torch.int32) tensor(8) tensor(9) True\n",
      "tensor([ 1, -1,  0,  0, -1,  1,  1, -1, -1,  0], dtype=torch.int32) tensor(5) tensor(2) True\n",
      "tensor([-1,  1, -1,  0, -1,  0,  1,  0,  1,  1], dtype=torch.int32) tensor(5) tensor(1) True\n",
      "tensor([-1,  0,  1, -1,  0, -1,  1,  1, -1,  0], dtype=torch.int32) tensor(9) tensor(1) True\n",
      "tensor([ 1,  1,  0,  1, -1, -1,  0, -1, -1,  0], dtype=torch.int32) tensor(5) tensor(6) True\n",
      "tensor([-1, -1, -1,  1, -1,  0,  0, -1,  1,  1], dtype=torch.int32) tensor(1) tensor(5) True\n",
      "tensor([-1, -1,  1, -1,  0,  0,  1, -1, -1,  1], dtype=torch.int32) tensor(4) tensor(1) True\n",
      "tensor([-1, -1, -1,  0,  1,  0, -1,  1, -1,  1], dtype=torch.int32) tensor(1) tensor(2) True\n",
      "tensor([-1,  1,  0, -1,  0,  1, -1,  0,  1,  1], dtype=torch.int32) tensor(7) tensor(4) True\n",
      "tensor([ 0,  1,  1,  0,  1, -1, -1,  0, -1,  1], dtype=torch.int32) tensor(7) tensor(6) True\n",
      "tensor([ 0,  0, -1, -1, -1, -1, -1,  1,  1,  1], dtype=torch.int32) tensor(3) tensor(7) True\n",
      "tensor([-1,  1, -1, -1,  1,  0,  1, -1,  0,  0], dtype=torch.int32) tensor(3) tensor(1) True\n",
      "tensor([-1,  0,  1,  1, -1,  0,  1,  0,  1,  0], dtype=torch.int32) tensor(5) tensor(1) True\n",
      "tensor([-1,  1, -1,  1,  1, -1,  0,  0, -1,  0], dtype=torch.int32) tensor(9) tensor(6) True\n",
      "tensor([-1, -1,  0,  0, -1,  1,  1, -1, -1,  1], dtype=torch.int32) tensor(1) tensor(5) True\n",
      "tensor([ 0,  1, -1, -1,  0,  0, -1,  1,  1,  1], dtype=torch.int32) tensor(7) tensor(3) True\n",
      "tensor([ 0, -1, -1,  1, -1, -1,  0, -1,  1,  1], dtype=torch.int32) tensor(6) tensor(2) True\n",
      "tensor([ 0, -1, -1,  0, -1,  1,  1,  0,  1,  1], dtype=torch.int32) tensor(3) tensor(2) True\n",
      "tensor([ 0, -1,  1, -1,  1,  1, -1, -1,  0,  0], dtype=torch.int32) tensor(2) tensor(4) True\n",
      "tensor([ 1, -1,  0, -1, -1, -1, -1,  1,  0,  1], dtype=torch.int32) tensor(6) tensor(4) True\n",
      "tensor([ 0, -1,  1, -1, -1,  0,  1, -1,  1,  0], dtype=torch.int32) tensor(2) tensor(4) True\n",
      "tensor([ 1, -1,  0,  0, -1, -1,  1, -1, -1,  1], dtype=torch.int32) tensor(9) tensor(2) True\n",
      "tensor([-1,  1,  0, -1,  0, -1,  1, -1, -1,  1], dtype=torch.int32) tensor(1) tensor(8) True\n",
      "tensor([-1,  0,  0,  1, -1, -1, -1,  1,  1,  0], dtype=torch.int32) tensor(1) tensor(7) True\n",
      "tensor([ 1,  0, -1, -1,  1,  1,  0, -1, -1,  0], dtype=torch.int32) tensor(3) tensor(9) True\n",
      "tensor([ 0, -1, -1, -1,  1,  1, -1, -1, -1,  0], dtype=torch.int32) tensor(4) tensor(2) True\n",
      "tensor([-1,  1, -1,  0,  1,  0, -1, -1, -1,  1], dtype=torch.int32) tensor(1) tensor(8) True\n",
      "tensor([-1, -1, -1, -1,  0, -1, -1,  1,  1,  0], dtype=torch.int32) tensor(7) tensor(1) True\n",
      "tensor([ 0, -1,  1, -1,  1,  0, -1, -1,  1,  0], dtype=torch.int32) tensor(7) tensor(4) True\n",
      "tensor([-1,  0, -1,  1,  0,  0, -1,  1,  1,  1], dtype=torch.int32) tensor(7) tensor(3) True\n",
      "tensor([ 0, -1, -1, -1,  1, -1,  1,  0,  1,  0], dtype=torch.int32) tensor(3) tensor(2) True\n",
      "tensor([ 1, -1,  1, -1,  1, -1,  0,  0, -1,  0], dtype=torch.int32) tensor(9) tensor(2) True\n",
      "tensor([-1,  0, -1, -1, -1,  1,  0,  1, -1,  1], dtype=torch.int32) tensor(1) tensor(5) True\n",
      "tensor([-1, -1, -1,  1,  1,  0,  0, -1, -1,  1], dtype=torch.int32) tensor(2) tensor(1) True\n",
      "tensor([ 1, -1, -1,  0,  0, -1, -1,  1,  1,  0], dtype=torch.int32) tensor(6) tensor(7) True\n",
      "tensor([ 1,  0, -1,  0, -1, -1,  1,  0,  1,  1], dtype=torch.int32) tensor(5) tensor(3) True\n",
      "tensor([ 1,  0,  1, -1,  0,  1,  0, -1, -1,  1], dtype=torch.int32) tensor(9) tensor(8) True\n",
      "tensor([-1,  1, -1,  0, -1,  0,  0,  1,  1,  1], dtype=torch.int32) tensor(5) tensor(1) True\n",
      "tensor([ 1, -1, -1,  0,  0,  1, -1,  1,  0,  1], dtype=torch.int32) tensor(2) tensor(3) True\n",
      "tensor([ 0, -1,  1,  1, -1,  1,  0,  0, -1,  1], dtype=torch.int32) tensor(5) tensor(2) True\n",
      "tensor([ 1, -1, -1,  0,  1,  0,  1, -1, -1,  0], dtype=torch.int32) tensor(2) tensor(9) True\n",
      "tensor([ 0, -1,  0,  1, -1,  1,  0,  1, -1,  1], dtype=torch.int32) tensor(5) tensor(2) True\n",
      "tensor([ 1,  0, -1, -1,  0,  1, -1,  1, -1,  0], dtype=torch.int32) tensor(7) tensor(3) True\n",
      "tensor([ 0, -1, -1,  1, -1, -1,  1,  1,  0,  0], dtype=torch.int32) tensor(2) tensor(3) True\n",
      "tensor([-1, -1, -1, -1, -1,  1, -1, -1, -1,  0], dtype=torch.int32) tensor(3) tensor(5) True\n",
      "tensor([ 0, -1, -1,  1,  0, -1,  1, -1,  1,  0], dtype=torch.int32) tensor(8) tensor(2) True\n",
      "tensor([ 0,  1,  1, -1, -1, -1,  0, -1, -1,  1], dtype=torch.int32) tensor(4) tensor(6) True\n",
      "tensor([ 1, -1, -1, -1, -1,  1,  0,  0,  1,  0], dtype=torch.int32) tensor(2) tensor(5) True\n",
      "tensor([ 1,  0,  0, -1, -1, -1,  1, -1,  1,  0], dtype=torch.int32) tensor(4) tensor(5) True\n",
      "tensor([ 1, -1,  0,  0,  1, -1,  1,  0, -1,  1], dtype=torch.int32) tensor(9) tensor(6) True\n",
      "tensor([-1, -1, -1,  1, -1,  0, -1,  1,  0,  1], dtype=torch.int32) tensor(3) tensor(1) True\n",
      "tensor([-1,  0, -1, -1, -1, -1,  1,  0,  1,  1], dtype=torch.int32) tensor(5) tensor(1) True\n",
      "tensor([-1, -1,  1,  1,  1,  0, -1,  0, -1,  0], dtype=torch.int32) tensor(7) tensor(1) True\n",
      "tensor([-1,  0,  1, -1, -1,  0,  1, -1, -1,  1], dtype=torch.int32) tensor(1) tensor(5) True\n",
      "tensor([ 0, -1, -1,  1, -1,  0,  1, -1, -1,  1], dtype=torch.int32) tensor(3) tensor(5) True\n",
      "tensor([ 1, -1,  1,  1,  0,  0,  0, -1,  1,  0], dtype=torch.int32) tensor(2) tensor(8) True\n",
      "tensor([ 0,  0, -1,  1, -1, -1, -1,  1,  1,  0], dtype=torch.int32) tensor(3) tensor(7) True\n",
      "tensor([ 1, -1,  0,  1, -1, -1, -1, -1, -1,  0], dtype=torch.int32) tensor(2) tensor(7) True\n",
      "tensor([ 0, -1,  0,  1, -1,  0,  1, -1,  1,  1], dtype=torch.int32) tensor(8) tensor(5) True\n",
      "tensor([-1, -1,  1, -1, -1, -1, -1,  0,  1,  0], dtype=torch.int32) tensor(1) tensor(5) True\n",
      "tensor([-1,  0,  1,  1,  0, -1, -1,  1, -1,  0], dtype=torch.int32) tensor(7) tensor(1) True\n",
      "tensor([ 1, -1,  1,  1, -1,  0, -1,  0, -1,  0], dtype=torch.int32) tensor(2) tensor(5) True\n",
      "tensor([-1,  1,  0, -1, -1,  1,  0, -1,  1,  0], dtype=torch.int32) tensor(1) tensor(4) True\n",
      "tensor([ 0,  0, -1, -1,  1, -1, -1,  1,  1,  0], dtype=torch.int32) tensor(3) tensor(7) True\n",
      "tensor([-1, -1, -1, -1,  1,  1,  1,  0,  0,  0], dtype=torch.int32) tensor(1) tensor(4) True\n",
      "tensor([-1,  0, -1,  0,  1,  0,  1,  1, -1,  1], dtype=torch.int32) tensor(1) tensor(3) True\n",
      "tensor([ 0,  1,  1, -1,  0, -1,  1,  0,  1,  0], dtype=torch.int32) tensor(6) tensor(4) True\n",
      "tensor([ 1, -1, -1,  0, -1, -1,  1, -1, -1,  0], dtype=torch.int32) tensor(5) tensor(2) True\n",
      "tensor([-1,  1,  1,  1,  0, -1,  0, -1, -1,  0], dtype=torch.int32) tensor(1) tensor(9) True\n",
      "tensor([-1,  1,  0,  0, -1, -1, -1,  1,  1,  0], dtype=torch.int32) tensor(1) tensor(5) True\n",
      "tensor([-1,  0,  0, -1, -1,  1,  1,  1, -1,  0], dtype=torch.int32) tensor(1) tensor(9) True\n",
      "tensor([-1, -1, -1, -1,  0,  0,  1, -1,  1,  1], dtype=torch.int32) tensor(4) tensor(3) True\n",
      "tensor([-1, -1, -1,  0,  1,  1, -1,  0, -1,  1], dtype=torch.int32) tensor(3) tensor(1) True\n",
      "tensor([-1, -1,  0,  0,  1,  1,  1, -1,  0,  1], dtype=torch.int32) tensor(1) tensor(8) True\n",
      "tensor([ 1,  0, -1, -1, -1,  0, -1,  1, -1,  1], dtype=torch.int32) tensor(7) tensor(5) True\n",
      "tensor([ 1, -1, -1,  0, -1,  1,  1,  0, -1,  0], dtype=torch.int32) tensor(3) tensor(2) True\n",
      "tensor([ 1,  0, -1,  1,  0,  0, -1,  1, -1,  1], dtype=torch.int32) tensor(7) tensor(3) True\n",
      "tensor([ 1,  0, -1,  0, -1,  1,  1,  1,  0,  0], dtype=torch.int32) tensor(3) tensor(5) True\n",
      "tensor([ 0, -1, -1,  1,  1, -1,  1, -1,  0,  0], dtype=torch.int32) tensor(2) tensor(6) True\n",
      "tensor([-1, -1,  0,  1,  1, -1,  1,  0,  0,  1], dtype=torch.int32) tensor(1) tensor(6) True\n",
      "tensor([ 1,  0,  1,  1,  0, -1, -1,  1,  0,  0], dtype=torch.int32) tensor(7) tensor(6) True\n",
      "tensor([-1, -1,  1,  0,  1,  1,  0, -1,  0,  1], dtype=torch.int32) tensor(1) tensor(2) True\n",
      "tensor([-1,  0,  0,  1, -1,  1, -1,  1,  0,  1], dtype=torch.int32) tensor(1) tensor(5) True\n",
      "tensor([ 0, -1, -1,  0,  1,  1,  1,  0,  1,  0], dtype=torch.int32) tensor(3) tensor(2) True\n",
      "tensor([ 1,  1,  0, -1,  0,  1, -1,  1,  0,  0], dtype=torch.int32) tensor(7) tensor(4) True\n",
      "tensor([ 0,  0,  1, -1, -1, -1, -1,  1,  1,  0], dtype=torch.int32) tensor(4) tensor(7) True\n",
      "tensor([-1,  1, -1,  1,  0,  1, -1,  0, -1,  0], dtype=torch.int32) tensor(7) tensor(1) True\n",
      "tensor([ 1, -1, -1, -1, -1,  0, -1, -1, -1,  1], dtype=torch.int32) tensor(3) tensor(5) True\n",
      "tensor([ 1,  0,  1,  1,  0, -1, -1, -1,  0,  1], dtype=torch.int32) tensor(7) tensor(8) True\n",
      "tensor([-1, -1, -1,  1, -1,  0, -1,  0,  1,  1], dtype=torch.int32) tensor(1) tensor(5) True\n",
      "tensor([ 1,  0, -1, -1, -1,  1,  0, -1,  1,  0], dtype=torch.int32) tensor(3) tensor(5) True\n",
      "tensor([-1, -1,  0,  1, -1, -1, -1, -1,  1,  0], dtype=torch.int32) tensor(1) tensor(5) True\n",
      "tensor([-1, -1, -1,  1, -1, -1, -1, -1,  0,  1], dtype=torch.int32) tensor(7) tensor(1) True\n",
      "tensor([ 1, -1,  0, -1,  1, -1,  1,  0, -1,  0], dtype=torch.int32) tensor(2) tensor(9) True\n",
      "tensor([-1,  0,  0, -1,  1,  1, -1,  1, -1,  0], dtype=torch.int32) tensor(1) tensor(9) True\n",
      "tensor([-1,  0, -1,  1,  0,  1,  0,  1,  1,  0], dtype=torch.int32) tensor(3) tensor(1) True\n",
      "tensor([-1, -1, -1, -1,  0, -1, -1, -1,  1,  1], dtype=torch.int32) tensor(1) tensor(3) True\n",
      "tensor([ 1, -1, -1,  0,  0, -1,  1, -1, -1,  1], dtype=torch.int32) tensor(6) tensor(2) True\n",
      "tensor([ 0,  1, -1,  1, -1,  0, -1, -1,  1,  0], dtype=torch.int32) tensor(5) tensor(3) True\n",
      "tensor([-1,  1,  1,  0, -1,  0,  1,  1,  0,  0], dtype=torch.int32) tensor(5) tensor(1) True\n",
      "tensor([ 1, -1, -1,  0, -1,  0,  1, -1, -1,  1], dtype=torch.int32) tensor(5) tensor(2) True\n",
      "tensor([-1, -1, -1, -1,  0, -1,  1, -1,  1,  0], dtype=torch.int32) tensor(8) tensor(3) True\n",
      "tensor([-1,  1,  0, -1,  0, -1, -1, -1,  1,  1], dtype=torch.int32) tensor(7) tensor(8) True\n",
      "tensor([ 1, -1, -1, -1,  0,  0, -1,  1,  1,  0], dtype=torch.int32) tensor(4) tensor(7) True\n",
      "tensor([ 0, -1,  1,  0, -1,  1, -1,  1,  0,  1], dtype=torch.int32) tensor(2) tensor(7) True\n",
      "tensor([-1,  0,  1, -1, -1, -1,  0,  1,  1,  0], dtype=torch.int32) tensor(6) tensor(1) True\n",
      "tensor([ 0,  0, -1,  1, -1,  1,  0,  1, -1,  1], dtype=torch.int32) tensor(3) tensor(5) True\n",
      "tensor([-1,  1, -1, -1,  1,  0, -1,  0, -1,  1], dtype=torch.int32) tensor(1) tensor(4) True\n",
      "tensor([ 1, -1, -1, -1,  0,  1, -1,  0, -1,  1], dtype=torch.int32) tensor(2) tensor(3) True\n",
      "tensor([ 1,  1,  0, -1, -1,  0,  1,  0,  1,  0], dtype=torch.int32) tensor(4) tensor(5) True\n",
      "tensor([-1,  0,  0, -1,  1,  0,  1,  1, -1,  1], dtype=torch.int32) tensor(9) tensor(1) True\n",
      "tensor([ 0, -1,  1,  1, -1,  0, -1, -1,  1,  0], dtype=torch.int32) tensor(5) tensor(2) True\n"
     ]
    }
   ],
   "source": [
    "invalid = 0\n",
    "invalid_states = []\n",
    "for i in range(0, len(predicted)):\n",
    "    isEmpty = False \n",
    "    if(actual[i] != predicted[i]):\n",
    "        isEmpty = False \n",
    "        if(X_test[i,predicted[i]-1] == -1):\n",
    "            isEmpty = True\n",
    "            \n",
    "        else:\n",
    "            invalid = invalid + 1\n",
    "            invalid_states.append({X_test[i].to(torch.int32),actual[i],predicted[i]})\n",
    "        print(X_test[i].to(torch.int32),actual[i],predicted[i], isEmpty)\n"
   ]
  },
  {
   "cell_type": "code",
   "execution_count": 105,
   "id": "80a5df2d-41d4-4473-b27d-8bf79b8737fc",
   "metadata": {},
   "outputs": [],
   "source": [
    "torch.save(model.state_dict(), \"TicTacToe_OverfittedWeights.pth\")"
   ]
  },
  {
   "cell_type": "code",
   "execution_count": null,
   "id": "f9859f2c-c03a-4d57-b339-e4facf622a21",
   "metadata": {},
   "outputs": [],
   "source": []
  }
 ],
 "metadata": {
  "kernelspec": {
   "display_name": "Python 3 (ipykernel)",
   "language": "python",
   "name": "python3"
  },
  "language_info": {
   "codemirror_mode": {
    "name": "ipython",
    "version": 3
   },
   "file_extension": ".py",
   "mimetype": "text/x-python",
   "name": "python",
   "nbconvert_exporter": "python",
   "pygments_lexer": "ipython3",
   "version": "3.12.4"
  }
 },
 "nbformat": 4,
 "nbformat_minor": 5
}
